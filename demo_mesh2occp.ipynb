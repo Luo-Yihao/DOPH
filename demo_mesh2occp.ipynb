{
 "cells": [
  {
   "cell_type": "code",
   "execution_count": 1,
   "metadata": {},
   "outputs": [],
   "source": [
    "import os\n",
    "import sys\n",
    "\n",
    "import numpy as np\n",
    "\n",
    "import torch\n",
    "import torch.nn as nn\n",
    "import torch.nn.functional as F\n",
    "\n",
    "import pytorch3d\n",
    "from pytorch3d import _C\n",
    "from pytorch3d.io import load_obj, save_obj, load_objs_as_meshes\n",
    "from pytorch3d.structures import Meshes, Pointclouds\n",
    "from pytorch3d.ops import sample_points_from_meshes, knn_points, estimate_pointcloud_normals, knn_gather, cubify\n",
    "from pytorch3d.loss.point_mesh_distance import point_mesh_edge_distance, point_mesh_face_distance\n",
    "import trimesh\n",
    "\n",
    "from mpl_toolkits.mplot3d import Axes3D\n",
    "import matplotlib.pyplot as plt\n",
    "\n",
    "import pyvista as pv\n",
    "pv.start_xvfb()\n",
    "pv.set_jupyter_backend('html')\n",
    "\n",
    "\n",
    "from torch.utils.data import DataLoader, Dataset, DistributedSampler  \n",
    "from torch.nn.parallel import DistributedDataParallel as DDP  \n",
    "\n",
    "# # from pytorch3d.structures import Meshes\n",
    "\n",
    "# from .utils import one_hot_sparse\n",
    "from ops.mesh_geometry import *\n",
    "# import pymeshlab as ml\n",
    "\n",
    "import mcubes"
   ]
  },
  {
   "cell_type": "code",
   "execution_count": 2,
   "metadata": {},
   "outputs": [
    {
     "name": "stdout",
     "output_type": "stream",
     "text": [
      "False\n",
      "torch.Size([1065, 3])\n"
     ]
    }
   ],
   "source": [
    "\n",
    "trimesh_tem = trimesh.load('./data_example/Cocotree.obj', force='mesh')\n",
    "# trimesh_tem = trimesh.load('/home/yihao/Document/Dataset3D/Train/person_0004.obj', force='mesh')\n",
    "\n",
    "# delete a few faces to make the mesh non-watertight\n",
    "# trimesh_tem.faces[590:593,:] = trimesh_tem.faces[590:591,:]\n",
    "print(trimesh_tem.is_watertight)\n",
    "\n",
    "device = torch.device(\"cuda\")\n",
    "\n",
    "mesh_tem = Meshes(verts=[torch.from_numpy(trimesh_tem.vertices).float()], \n",
    "                  faces=[torch.from_numpy(trimesh_tem.faces).long()]).to(device)\n",
    "\n",
    "mesh_tem = normalize_mesh(mesh_tem) # normalize the mesh to fit in the unit cube\n",
    "\n",
    "print(mesh_tem.verts_packed().shape)\n"
   ]
  },
  {
   "cell_type": "code",
   "execution_count": 3,
   "metadata": {},
   "outputs": [
    {
     "data": {
      "application/vnd.jupyter.widget-view+json": {
       "model_id": "f37d530ecedd44088760082cbada94b5",
       "version_major": 2,
       "version_minor": 0
      },
      "text/plain": [
       "EmbeddableWidget(value='<iframe srcdoc=\"<!DOCTYPE html>\\n<html>\\n  <head>\\n    <meta http-equiv=&quot;Content-…"
      ]
     },
     "metadata": {},
     "output_type": "display_data"
    }
   ],
   "source": [
    "pl = pv.Plotter(notebook=True)\n",
    "\n",
    "trimesh_tem = trimesh.Trimesh(vertices=mesh_tem.verts_list()[0].cpu().numpy(), faces=mesh_tem.faces_list()[0].cpu().numpy())\n",
    "\n",
    "pl.add_mesh(trimesh_tem, color='lightblue', show_edges=True, opacity=1)\n",
    "\n",
    "\n",
    "# pl.add_points(coordinates_downsampled.cpu().numpy()[np.random.choice(n_points, 1000)], color='red', point_size=5)\n",
    "\n",
    "# pl.camera.roll = 10\n",
    "pl.camera.elevation = 140\n",
    "pl.camera.azimuth = 60\n",
    "pl.camera.zoom = 1.3\n",
    "\n",
    "pl.show() #screenshot='out_exp/tem_mesh_2.png', window_size=[800,800])"
   ]
  },
  {
   "cell_type": "markdown",
   "metadata": {},
   "source": [
    "Fipped duplication"
   ]
  },
  {
   "cell_type": "code",
   "execution_count": 4,
   "metadata": {},
   "outputs": [
    {
     "name": "stdout",
     "output_type": "stream",
     "text": [
      "torch.Size([1, 1328, 3])\n"
     ]
    }
   ],
   "source": [
    "## non-closed mesh check\n",
    "\n",
    "centroids = mesh_tem.verts_packed()[mesh_tem.faces_packed()].mean(-2)\n",
    "\n",
    "with torch.no_grad():\n",
    "    #sdf_result = signed_distance_field(mesh_tem, coordinates_downsampled, allow_grad=False)\n",
    "    occp_result = occupancy(mesh_tem, centroids, allow_grad=False)\n",
    "    occp_result = occp_result.view(-1)\n",
    "\n",
    "non_closed_index = torch.where((occp_result- torch.round(occp_result)).abs() > 1e-5)[0]\n",
    "\n",
    "## duplicate & flip the non-closed faces \n",
    "\n",
    "mesh_verts_new = mesh_tem.verts_padded().clone() - mesh_tem.verts_normals_padded()*5*1e-3\n",
    "\n",
    "B = mesh_verts_new.shape[0]\n",
    "\n",
    "# faces_new = mesh_tem.faces_packed().clone()[non_closed_index,:]\n",
    "faces_new = mesh_tem.faces_padded().clone()\n",
    "faces_new = faces_new[:,:,[0,2,1]]\n",
    "\n",
    "print(faces_new.shape)\n",
    "\n",
    "# new_mesh = Meshes(verts=[mesh_verts_new], faces=[face_new])\n",
    "\n",
    "# merge the old and new mesh\n",
    "new_mesh = Meshes(verts=[mesh_verts_new[i] for i in range(B)], faces=[faces_new[i] for i in range(B)])"
   ]
  },
  {
   "cell_type": "code",
   "execution_count": 5,
   "metadata": {},
   "outputs": [
    {
     "name": "stderr",
     "output_type": "stream",
     "text": [
      "/home/yihao/anaconda3/envs/medicalimage/lib/python3.9/site-packages/torch/functional.py:504: UserWarning: torch.meshgrid: in an upcoming release, it will be required to pass the indexing argument. (Triggered internally at ../aten/src/ATen/native/TensorShape.cpp:3526.)\n",
      "  return _VF.meshgrid(tensors, **kwargs)  # type: ignore[attr-defined]\n"
     ]
    }
   ],
   "source": [
    "# voxelizer = Differentiable_Voxelizer(bbox_density=128)\n",
    "\n",
    "\n",
    "sample_size = 512\n",
    "\n",
    "meshbbox = mesh_tem.get_bounding_boxes()[0]\n",
    "\n",
    "coordinates_downsampled = torch.stack(torch.meshgrid(torch.linspace(meshbbox[0,0], meshbbox[0,1], sample_size),\n",
    "                                                        torch.linspace(meshbbox[1,0], meshbbox[1,1], sample_size),\n",
    "                                                        torch.linspace(meshbbox[2,0], meshbbox[2,1], sample_size)), dim=-1)\n",
    "\n",
    "coordinates_downsampled = coordinates_downsampled.view(-1, 3).to(device)\n",
    "\n",
    "n_points = coordinates_downsampled.shape[0]\n"
   ]
  },
  {
   "cell_type": "code",
   "execution_count": 6,
   "metadata": {},
   "outputs": [],
   "source": [
    "with torch.no_grad():\n",
    "    #sdf_result = signed_distance_field(new_mesh, coordinates_downsampled, allow_grad=False)\n",
    "    occp_result_ori = occupancy(mesh_tem, coordinates_downsampled, allow_grad=False, max_query_point_batch_size=2000)\n",
    "    occp_result_inverse = occupancy(new_mesh, coordinates_downsampled, allow_grad=False, max_query_point_batch_size=2000)\n",
    "\n"
   ]
  },
  {
   "cell_type": "code",
   "execution_count": 7,
   "metadata": {},
   "outputs": [],
   "source": [
    "occp_result = torch.where((occp_result_ori - occp_result_ori.round()).abs() > 1e-5, occp_result_inverse+occp_result_ori, occp_result_ori)\n",
    "occpfield = occp_result.view(1, sample_size, sample_size, sample_size)\n",
    "occpfield = occpfield.permute(0, 3, 2, 1)"
   ]
  },
  {
   "cell_type": "markdown",
   "metadata": {},
   "source": [
    "Re-cubify"
   ]
  },
  {
   "cell_type": "code",
   "execution_count": 8,
   "metadata": {},
   "outputs": [],
   "source": [
    "class GaussianBlur3D(nn.Module):\n",
    "    def __init__(self):\n",
    "        super(GaussianBlur3D, self).__init__()\n",
    "\n",
    "    def forward(self, x, kernel_size=5, sigma=1.0):\n",
    "        if kernel_size % 2 == 0:\n",
    "            raise ValueError(\"Kernel size should be odd.\")\n",
    "\n",
    "        # Create Gaussian kernel\n",
    "        kernel = self._create_gaussian_kernel(kernel_size, sigma)\n",
    "        kernel = kernel.unsqueeze(0).unsqueeze(0)\n",
    "        kernel = kernel.to(x.device)\n",
    "\n",
    "        # Apply the convolution\n",
    "        padding = kernel_size // 2\n",
    "        return F.conv3d(x, kernel, padding=padding)\n",
    "\n",
    "    def _create_gaussian_kernel(self, kernel_size, sigma):\n",
    "        coords = torch.arange(kernel_size).float() - kernel_size // 2\n",
    "        coords = coords.expand(kernel_size, kernel_size, kernel_size)\n",
    "        g = torch.exp(-(coords**2 + coords.transpose(0,1)**2 + coords.transpose(0,2)**2) / (2*sigma**2))\n",
    "        return g / g.sum()\n",
    "\n",
    "# Create an instance of the 3D Gaussian Blur module\n",
    "gaussian_blur_3d = GaussianBlur3D()\n",
    "\n",
    "# Apply the 3D Gaussian filter with changeable kernel size\n",
    "kernel_size = 3  # You can change this value\n",
    "sigma = 2.0      # You can change this value\n",
    "with torch.no_grad():\n",
    "    occpfield_blurred = gaussian_blur_3d(occpfield, kernel_size=kernel_size, sigma=sigma)"
   ]
  },
  {
   "cell_type": "code",
   "execution_count": 9,
   "metadata": {},
   "outputs": [
    {
     "data": {
      "application/vnd.jupyter.widget-view+json": {
       "model_id": "1d059cc3865746abb2ddc808481c60df",
       "version_major": 2,
       "version_minor": 0
      },
      "text/plain": [
       "EmbeddableWidget(value='<iframe srcdoc=\"<!DOCTYPE html>\\n<html>\\n  <head>\\n    <meta http-equiv=&quot;Content-…"
      ]
     },
     "metadata": {},
     "output_type": "display_data"
    }
   ],
   "source": [
    "\n",
    "# ## pymcubes marching cubes\n",
    "# vertices, triangles = mcubes.marching_cubes((occpfield_blurred.permute(0, 3, 2, 1))[0].cpu().numpy(), 0.5)\n",
    "\n",
    "\n",
    "# ## rescale the vertices to the original mesh\n",
    "# vertices = meshbbox.mean(dim=-1).cpu().numpy() + (vertices*2/(sample_size-1)-1)*((meshbbox[:,1]-meshbbox[:,0]).view(1, 3).cpu().numpy())/2\n",
    "\n",
    "# # create a mesh object\n",
    "# trimesh_cubified = trimesh.Trimesh(vertices=vertices, faces=triangles)\n",
    "# Pytorch3d cubify\n",
    "cubified = cubify(occpfield_blurred, 0.2) # cubify the voxel grid, which is the inverse operation of voxelization\n",
    "\n",
    "\n",
    "\n",
    "cubified = cubified.update_padded(meshbbox.mean(dim=-1) + cubified.verts_padded()*((meshbbox[:,1]-meshbbox[:,0]).view(1,1, 3).to(device))/2)\n",
    "\n",
    "trimesh_cubified = trimesh.Trimesh(cubified.verts_packed().detach().cpu().numpy(), cubified.faces_packed().detach().cpu().numpy())\n",
    "\n",
    "\n",
    "## smooth the mesh\n",
    "# trimesh_cubified = trimesh.smoothing.filter_laplacian(trimesh_cubified, iterations=3)\n",
    "pl = pv.Plotter(notebook=True)\n",
    "\n",
    "pl.add_mesh(trimesh_tem, color='lightblue', show_edges=True, opacity=0.2)\n",
    "\n",
    "pl.add_mesh(trimesh_cubified, color='lightgreen', opacity=1, show_edges=False)\n",
    "\n",
    "pl.camera.elevation = 140\n",
    "pl.camera.azimuth = 60\n",
    "pl.camera.zoom = 1.3\n",
    "\n",
    "pl.show() \n"
   ]
  },
  {
   "cell_type": "code",
   "execution_count": 24,
   "metadata": {},
   "outputs": [],
   "source": [
    "\n",
    "\n",
    "\n",
    "\n",
    "\n",
    "\n"
   ]
  },
  {
   "cell_type": "code",
   "execution_count": null,
   "metadata": {},
   "outputs": [],
   "source": []
  }
 ],
 "metadata": {
  "kernelspec": {
   "display_name": "geometery3d",
   "language": "python",
   "name": "python3"
  },
  "language_info": {
   "codemirror_mode": {
    "name": "ipython",
    "version": 3
   },
   "file_extension": ".py",
   "mimetype": "text/x-python",
   "name": "python",
   "nbconvert_exporter": "python",
   "pygments_lexer": "ipython3",
   "version": "3.9.18"
  }
 },
 "nbformat": 4,
 "nbformat_minor": 2
}
